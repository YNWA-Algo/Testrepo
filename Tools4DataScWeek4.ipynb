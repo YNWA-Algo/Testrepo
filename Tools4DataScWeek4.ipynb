{
  "nbformat": 4,
  "nbformat_minor": 0,
  "metadata": {
    "colab": {
      "name": "Tools4DataScWeek4.ipynb",
      "provenance": [],
      "authorship_tag": "ABX9TyPRMzHX+/alDosk6/Lea9+c",
      "include_colab_link": true
    },
    "kernelspec": {
      "name": "python3",
      "display_name": "Python 3"
    },
    "language_info": {
      "name": "python"
    }
  },
  "cells": [
    {
      "cell_type": "markdown",
      "metadata": {
        "id": "view-in-github",
        "colab_type": "text"
      },
      "source": [
        "<a href=\"https://colab.research.google.com/github/YNWA-Algo/Testrepo/blob/main/Tools4DataScWeek4.ipynb\" target=\"_parent\"><img src=\"https://colab.research.google.com/assets/colab-badge.svg\" alt=\"Open In Colab\"/></a>"
      ]
    },
    {
      "cell_type": "markdown",
      "source": [
        "I am interested in Data Science because I love to gain insights from data\n"
      ],
      "metadata": {
        "id": "RLTxhQA8j1ZE"
      }
    },
    {
      "cell_type": "code",
      "source": [
        "def gauss(n):\n",
        "  return (n*(n+1))/2\n",
        "  gauss(100) == sum(range(101))"
      ],
      "metadata": {
        "id": "Jqh-QRgOj-lr"
      },
      "execution_count": null,
      "outputs": []
    }
  ]
}